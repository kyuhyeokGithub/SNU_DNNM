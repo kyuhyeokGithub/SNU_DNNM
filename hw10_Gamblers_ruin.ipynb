{
 "cells": [
  {
   "cell_type": "code",
   "execution_count": 2,
   "id": "16428aae",
   "metadata": {},
   "outputs": [
    {
     "name": "stdout",
     "output_type": "stream",
     "text": [
      "Estimate: 2.40x10^-6 ± 0.17x10^-6\n"
     ]
    }
   ],
   "source": [
    "import torch\n",
    "import math\n",
    "\n",
    "N = 3000\n",
    "K = 600\n",
    "p = 18/37\n",
    "q = 0.55\n",
    "\n",
    "def deter_win(Y,p,q):\n",
    "    money = 100\n",
    "    temp = 1\n",
    "    for idx in range(len(Y)):\n",
    "        if Y[idx] == 1:\n",
    "            money += 1\n",
    "            temp *= (p/q)\n",
    "        else :\n",
    "            money -= 1\n",
    "            temp *= ((1-p)/(1-q))\n",
    "\n",
    "        if money == 200 :\n",
    "            return 1 * temp\n",
    "        elif money == 0 :\n",
    "            return 0 * temp\n",
    "    return 0 * temp\n",
    "\n",
    "\n",
    "probability = q * torch.ones(K,1)\n",
    "temp = []\n",
    "for experiment in range(N):\n",
    "    Y = torch.bernoulli(probability)\n",
    "    temp.append(deter_win(Y,p,q))\n",
    "\n",
    "samp = torch.tensor(temp)\n",
    "Ihat,s = samp.mean(), samp.var()\n",
    "print(f\"Estimate: {Ihat*1000000:.2f}x10^-6 ± {math.sqrt(s/N)*1000000:.2f}x10^-6\")"
   ]
  },
  {
   "cell_type": "code",
   "execution_count": null,
   "id": "ad83f167",
   "metadata": {},
   "outputs": [],
   "source": []
  }
 ],
 "metadata": {
  "kernelspec": {
   "display_name": "Python 3 (ipykernel)",
   "language": "python",
   "name": "python3"
  },
  "language_info": {
   "codemirror_mode": {
    "name": "ipython",
    "version": 3
   },
   "file_extension": ".py",
   "mimetype": "text/x-python",
   "name": "python",
   "nbconvert_exporter": "python",
   "pygments_lexer": "ipython3",
   "version": "3.9.12"
  }
 },
 "nbformat": 4,
 "nbformat_minor": 5
}
