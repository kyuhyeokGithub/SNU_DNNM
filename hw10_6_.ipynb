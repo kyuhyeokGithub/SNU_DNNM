{
 "cells": [
  {
   "cell_type": "code",
   "execution_count": 6,
   "id": "08699125",
   "metadata": {},
   "outputs": [
    {
     "name": "stdout",
     "output_type": "stream",
     "text": [
      "tensor([0.0766]) tensor([0.2003])\n"
     ]
    }
   ],
   "source": [
    "import torch\n",
    "import math\n",
    "\n",
    "mu = torch.tensor([0.])\n",
    "tau = torch.tensor([0.])\n",
    "\n",
    "lr = 1e-2\n",
    "B = 16\n",
    "iterations = 50  # not epochs, iterations\n",
    "history1 = torch.zeros((iterations + 1, 2))\n",
    "\n",
    "for itr in range(iterations):\n",
    "    sigma = torch.exp(tau)\n",
    "    X = sigma * torch.normal(0, 1, size=(B, 1)) + mu  # (B,1)\n",
    "    g_mu = torch.sum( X * torch.sin(X) * ((X-mu)/(sigma**2)) , dim = 0 ) + (mu-1)\n",
    "    g_tau = torch.exp(tau) * (torch.sum( X * torch.sin(X) * ((X-mu)**2/(sigma**3) - 1/sigma) , dim = 0 ) + (1-1/sigma))\n",
    "\n",
    "    mu = mu - lr * g_mu\n",
    "    tau = tau - lr * g_tau\n",
    "\n",
    "    # save history\n",
    "    history1[itr + 1, 0] = mu\n",
    "    history1[itr + 1, 1] = torch.exp(tau)\n",
    "\n",
    "print(mu, torch.exp(tau))"
   ]
  },
  {
   "cell_type": "code",
   "execution_count": 7,
   "id": "12dba9ba",
   "metadata": {},
   "outputs": [
    {
     "name": "stdout",
     "output_type": "stream",
     "text": [
      "tensor([0.0750]) tensor([0.2205])\n"
     ]
    }
   ],
   "source": [
    "mu = torch.tensor([0.])\n",
    "tau = torch.tensor([0.])\n",
    "\n",
    "lr = 1e-2\n",
    "B = 16\n",
    "iterations = 50  # not epochs, iterations\n",
    "history2 = torch.zeros((iterations + 1, 2))\n",
    "\n",
    "for itr in range(iterations):\n",
    "    sigma = torch.exp(tau)\n",
    "    Y = torch.normal(0, 1, size=(B, 1))  # (B,1)\n",
    "\n",
    "    g_mu = torch.sum( (sigma * Y + mu) * torch.cos(sigma * Y + mu) + (sigma * Y + mu) , dim = 0 ) + (mu-1)\n",
    "    g_tau = torch.exp(tau) * ( torch.sum( ( (sigma * Y + mu) * torch.cos(sigma * Y + mu) + (sigma * Y + mu))*(Y) , dim = 0 ) + (1-1/sigma))\n",
    "\n",
    "    mu = mu - lr * g_mu\n",
    "    tau = tau - lr * g_tau\n",
    "\n",
    "    # save history\n",
    "    history2[itr + 1, 0] = mu\n",
    "    history2[itr + 1, 1] = torch.exp(tau)\n",
    "\n",
    "#print(history2)\n",
    "print(mu, torch.exp(tau))\n",
    "\n"
   ]
  },
  {
   "cell_type": "code",
   "execution_count": 9,
   "id": "a5306955",
   "metadata": {},
   "outputs": [
    {
     "data": {
      "image/png": "[encoded data removed]",
      "text/plain": [
       "<Figure size 432x288 with 2 Axes>"
      ]
     },
     "metadata": {
      "needs_background": "light"
     },
     "output_type": "display_data"
    },
    {
     "data": {
      "text/plain": [
       "<Figure size 432x288 with 0 Axes>"
      ]
     },
     "metadata": {},
     "output_type": "display_data"
    }
   ],
   "source": [
    "import numpy as np\n",
    "import matplotlib.pyplot as plt\n",
    "\n",
    "\n",
    "x1 = np.array(history1[:, 0])\n",
    "y1 = np.array(history1[:, 1])\n",
    "\n",
    "x2 = np.array(history2[:, 0])\n",
    "y2 = np.array(history2[:, 1])\n",
    "\n",
    "plt.subplot(1, 2, 1)\n",
    "plt.scatter(0,0, s=50, c='green')\n",
    "plt.xlim(-0.2, 0.2)\n",
    "plt.ylim(-0.2, 1)\n",
    "plt.plot(x1, y1, linestyle='solid',color='blue')\n",
    "plt.scatter(history1[-1, 0],history1[-1, 1], s=100, c='red')\n",
    "plt.title('log derivative trick')\n",
    "\n",
    "plt.subplot(1, 2, 2)\n",
    "plt.scatter(0,0, s=50, c='green')\n",
    "plt.xlim(-0.2, 0.2)\n",
    "plt.ylim(-0.2, 1)\n",
    "plt.plot(x2, y2, linestyle='solid',color='blue')\n",
    "plt.scatter(history2[-1, 0],history2[-1, 1], s=100, c='red')\n",
    "plt.title('reparametrization trick')\n",
    "\n",
    "plt.tight_layout()\n",
    "plt.show()\n",
    "plt.savefig('derivative_trick.png')\n"
   ]
  },
  {
   "cell_type": "code",
   "execution_count": null,
   "id": "146d61e5",
   "metadata": {},
   "outputs": [],
   "source": []
  }
 ],
 "metadata": {
  "kernelspec": {
   "display_name": "Python 3 (ipykernel)",
   "language": "python",
   "name": "python3"
  },
  "language_info": {
   "codemirror_mode": {
    "name": "ipython",
    "version": 3
   },
   "file_extension": ".py",
   "mimetype": "text/x-python",
   "name": "python",
   "nbconvert_exporter": "python",
   "pygments_lexer": "ipython3",
   "version": "3.9.12"
  }
 },
 "nbformat": 4,
 "nbformat_minor": 5
}
