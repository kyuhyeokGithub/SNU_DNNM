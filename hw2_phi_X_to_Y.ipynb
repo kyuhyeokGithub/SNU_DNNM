{
 "cells": [
  {
   "cell_type": "code",
   "execution_count": 4,
   "id": "a0129eae",
   "metadata": {},
   "outputs": [
    {
     "data": {
      "image/png": "[encoded data removed]",
      "text/plain": [
       "<Figure size 432x288 with 1 Axes>"
      ]
     },
     "metadata": {
      "needs_background": "light"
     },
     "output_type": "display_data"
    }
   ],
   "source": [
    "import numpy as np\n",
    "import matplotlib.pyplot as plt\n",
    "\n",
    "np.seterr(invalid='ignore', over='ignore')  \n",
    "# suppress warning caused by division by inf\n",
    "\n",
    "N =30\n",
    "np.random.seed(0)\n",
    "X = np.random.randn(2,N)\n",
    "y = np.sign( X[0,:]**2+ X[1,:]**2 -0.7)\n",
    "theta = 0.5\n",
    "c, s = np.cos(theta), np.sin( theta )\n",
    "X = np.array ([[c,-s],[s,c]])@X\n",
    "X = X + np.array([[1] ,[1]])\n",
    "\n",
    "def phi(X):\n",
    "    temp = np.ones( (5, X.shape[1]))\n",
    "    for idx in range(X.shape[1]):\n",
    "        temp[1, idx] = X[0, idx]\n",
    "        temp[2, idx] = X[0, idx]**2\n",
    "        temp[3, idx] = X[1, idx]\n",
    "        temp[4, idx] = X[1, idx]**2\n",
    "    return temp.T\n",
    "\n",
    "class LR():\n",
    "    def __init__(self, X, Y):\n",
    "        self.X = X\n",
    "        self.Y = Y\n",
    "        self.N = X.shape[0]\n",
    "        self.p = X.shape[1]\n",
    "        self.w = np.zeros(self.p)\n",
    "        self.learning_rate = 0.01\n",
    "\n",
    "    def loss(self):\n",
    "        temp = np.mean(np.log(1 + np.exp(-self.Y*(self.X@self.w))))\n",
    "        return temp\n",
    "\n",
    "    def train(self):\n",
    "        idx = np.random.randint(self.N)\n",
    "        self.w -= self.learning_rate * \n",
    "        ( (np.exp(-self.Y[idx]*(self.X[idx,:]@self.w)))\n",
    "         /(1 + np.exp(-self.Y[idx]*(self.X[idx,:]@self.w))) ) \n",
    "        * (-self.Y[idx]*self.X[idx,:])\n",
    "\n",
    "\n",
    "epochs = 10000\n",
    "\n",
    "model = LR(phi(X), y)\n",
    "loss_list = []\n",
    "\n",
    "for epoch in range(epochs):\n",
    "    model.train()\n",
    "    loss_list.append(model.loss())\n",
    "\n",
    "xx = np.linspace(-4, 4, 1024)\n",
    "yy = np.linspace(-4, 4, 1024)\n",
    "xx, yy = np.meshgrid(xx, yy)\n",
    "Z = model.w[0] + ( model.w[1]*xx + model.w[2]* (xx**2)) \n",
    "+ ( model.w[3]*yy + model.w[4]*(yy**2))\n",
    "\n",
    "plus_mask, minus_mask = [], []\n",
    "for idx in range(len(y)) :\n",
    "    if y[idx] > 0 :\n",
    "        plus_mask.append(idx)\n",
    "    else :\n",
    "        minus_mask.append(idx)\n",
    "\n",
    "plt.scatter(X[0,plus_mask], X[1,plus_mask], color = 'b', \n",
    "            s=5, label = 'plus')\n",
    "plt.scatter(X[0,minus_mask], X[1,minus_mask], color = 'r', \n",
    "            s=5, label = 'minus')\n",
    "\n",
    "plt.contour(xx, yy, Z, 0)\n",
    "plt.xlim((-2,4))\n",
    "plt.ylim((-2,4))\n",
    "plt.xlabel(\"u\")\n",
    "plt.ylabel(\"v\")\n",
    "plt.legend()\n",
    "plt.show()\n",
    "\n"
   ]
  },
  {
   "cell_type": "code",
   "execution_count": null,
   "id": "e5a4ce95",
   "metadata": {},
   "outputs": [],
   "source": []
  }
 ],
 "metadata": {
  "kernelspec": {
   "display_name": "Python 3 (ipykernel)",
   "language": "python",
   "name": "python3"
  },
  "language_info": {
   "codemirror_mode": {
    "name": "ipython",
    "version": 3
   },
   "file_extension": ".py",
   "mimetype": "text/x-python",
   "name": "python",
   "nbconvert_exporter": "python",
   "pygments_lexer": "ipython3",
   "version": "3.9.12"
  }
 },
 "nbformat": 4,
 "nbformat_minor": 5
}
