{
 "cells": [
  {
   "cell_type": "code",
   "execution_count": 2,
   "id": "63785c75",
   "metadata": {},
   "outputs": [
    {
     "data": {
      "image/png": "[encoded data removed]",
      "text/plain": [
       "<Figure size 432x288 with 1 Axes>"
      ]
     },
     "metadata": {
      "needs_background": "light"
     },
     "output_type": "display_data"
    }
   ],
   "source": [
    "import numpy as np\n",
    "import matplotlib.pyplot as plt\n",
    "\n",
    "# suppress warning caused by division by inf\n",
    "np.seterr(invalid='ignore', over='ignore')  \n",
    "\n",
    "N, p = 30, 20\n",
    "np.random.seed(0)\n",
    "X = np.random.randn(N,p)\n",
    "Y = 2 * np.random.randint(2, size = N) - 1\n",
    "\n",
    "class LR():\n",
    "    def __init__(self, X, Y):\n",
    "        self.X = X\n",
    "        self.Y = Y\n",
    "        self.N = X.shape[0]\n",
    "        self.p = X.shape[1]\n",
    "        self.theta = np.zeros(self.p)\n",
    "        self.learning_rate = 0.01\n",
    "\n",
    "    def loss(self):\n",
    "        temp = np.mean(np.log(1 + np.exp(-self.Y*(self.X@self.theta))))\n",
    "        return temp\n",
    "\n",
    "    def train(self):\n",
    "        idx = np.random.randint(self.N)\n",
    "        self.theta -= self.learning_rate * \n",
    "        ( (np.exp(-self.Y[idx]*(self.X[idx,:]@self.theta)))\n",
    "         /(1 + np.exp(-self.Y[idx]*(self.X[idx,:]@self.theta))) ) \n",
    "        * (-self.Y[idx]*self.X[idx,:])\n",
    "\n",
    "\n",
    "epochs = 10000\n",
    "\n",
    "model = LR(X, Y)\n",
    "loss_list = []\n",
    "\n",
    "for epoch in range(epochs):\n",
    "    model.train()\n",
    "    loss_list.append(model.loss())\n",
    "\n",
    "plt.plot(list(range(epochs)), loss_list, label = \"Logistic Regression via SGD\")\n",
    "plt.xlabel(\"epoch\")\n",
    "plt.ylabel(r\"$f(\\theta^k)$\")\n",
    "plt.legend()\n",
    "plt.show()\n",
    "\n",
    "\n",
    "\n",
    "\n"
   ]
  },
  {
   "cell_type": "code",
   "execution_count": null,
   "id": "4d19f39f",
   "metadata": {},
   "outputs": [],
   "source": []
  }
 ],
 "metadata": {
  "kernelspec": {
   "display_name": "Python 3 (ipykernel)",
   "language": "python",
   "name": "python3"
  },
  "language_info": {
   "codemirror_mode": {
    "name": "ipython",
    "version": 3
   },
   "file_extension": ".py",
   "mimetype": "text/x-python",
   "name": "python",
   "nbconvert_exporter": "python",
   "pygments_lexer": "ipython3",
   "version": "3.9.12"
  }
 },
 "nbformat": 4,
 "nbformat_minor": 5
}
